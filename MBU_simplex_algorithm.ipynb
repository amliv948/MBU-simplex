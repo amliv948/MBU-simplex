{
 "cells": [
  {
   "cell_type": "code",
   "execution_count": 2,
   "metadata": {},
   "outputs": [],
   "source": [
    "import scipy\n",
    "import pandas as pd\n",
    "import numpy as np\n",
    "import itertools"
   ]
  },
  {
   "cell_type": "code",
   "execution_count": 50,
   "metadata": {},
   "outputs": [],
   "source": [
    "#initial solution\n",
    "def initial_solution(A,b, init_basis=None):\n",
    "    A = np.array(A)\n",
    "    b=np.array(b)\n",
    "    if np.linalg.matrix_rank(A)<len(b):\n",
    "        print('Ax=b is not solvable')\n",
    "    if init_basis!=None:\n",
    "        A_inv = np.linalg.inv(A[np.ix_(range(len(b)), init_basis)])\n",
    "        in_the_basis = init_basis\n",
    "        table = np.matmul(A_inv, A)\n",
    "        b_hat = np.matmul(A_inv, b)\n",
    "    else:\n",
    "        s=0\n",
    "        ind = -1\n",
    "        combinations = [list(comb) for comb in itertools.combinations(range(A.shape[1]), A.shape[0])]\n",
    "        while s<len(b):\n",
    "            ind += 1\n",
    "            s = np.linalg.matrix_rank(A[np.ix_(range(len(b)), combinations[ind])])\n",
    "        A_inv = np.linalg.inv(A[np.ix_(range(len(b)), combinations[ind])])\n",
    "        in_the_basis = combinations[ind]\n",
    "        table = np.matmul(A_inv, A)\n",
    "        b_hat = np.matmul(A_inv, b)\n",
    "    return(in_the_basis, table, b_hat)\n",
    "            \n",
    "            \n",
    "    \n",
    "    "
   ]
  },
  {
   "cell_type": "code",
   "execution_count": 228,
   "metadata": {},
   "outputs": [],
   "source": [
    "def initial_solution2(A,b, init_basis=None):\n",
    "    A_hat = A\n",
    "    b_hat = b\n",
    "    in_the_basis = range(A.shape[1],A.shape[1]+A.shape[0])\n",
    "    in_the_basis = np.array(in_the_basis)\n",
    "    kakao = (in_the_basis>=A.shape[1])\n",
    "    if init_basis == None:\n",
    "        for i in np.where(kakao)[0]:\n",
    "            if (np.all(A_hat[i]==0)) &(b_hat[i]==0):\n",
    "                A_hat = np.delete(A_hat, i,0)\n",
    "                b_hat = np.delete(b_hat,i)\n",
    "                in_the_basis = np.delete(in_the_basis,i)\n",
    "            else:\n",
    "\n",
    "                ind = (A_hat[i]!=0).argmax(axis=0)\n",
    "                A_hat, b_hat = pivot(A_hat,b_hat,i,ind)\n",
    "                in_the_basis[i]=ind\n",
    "                #print(i, ind)\n",
    "    if init_basis!=None:\n",
    "        init_basis = list(init_basis)\n",
    "        for i in np.where(kakao)[0]:\n",
    "            if (np.all(A_hat[i]==0)) &(b_hat[i]==0):\n",
    "                A_hat = np.delete(A_hat, i,0)\n",
    "                b_hat = np.delete(b_hat,i)\n",
    "                in_the_basis = np.delete(in_the_basis,i)\n",
    "            else:\n",
    "                ind = [j for j in init_basis if A_hat[i][j]!=0][0]\n",
    "                init_basis.remove(ind)\n",
    "                A_hat, b_hat = pivot(A_hat,b_hat,i,ind)\n",
    "                in_the_basis[i]=ind\n",
    "                #print(i, ind)\n",
    "    return(in_the_basis, A_hat, b_hat)\n"
   ]
  },
  {
   "cell_type": "code",
   "execution_count": 51,
   "metadata": {},
   "outputs": [],
   "source": [
    "#pivot\n",
    "def pivot(A, b,index1, index2):\n",
    "    P = np.identity(A.shape[0])\n",
    "    v= -A[:, index2]/A[index1, index2]\n",
    "    v[index1] = 1/A[index1, index2]\n",
    "    P[:, index1] = v\n",
    "    new_A = np.matmul(P, A)\n",
    "    new_b_hat = np.matmul(P, b)\n",
    "    return(new_A, new_b_hat)\n",
    "    \n",
    "    "
   ]
  },
  {
   "cell_type": "code",
   "execution_count": 52,
   "metadata": {},
   "outputs": [],
   "source": [
    "#creates a pandas dataframe of the solution\n",
    "def nice_table(table,b_hat=None,init_basis=None):\n",
    "    tableau = pd.DataFrame(table, columns = ['x'+str(i) for i in range(table.shape[1])])\n",
    "    tableau['b'] = b_hat\n",
    "    if np.all(init_basis) != None:\n",
    "        tableau.index = ['x'+str(i) for i in init_basis]\n",
    "    return(tableau)\n",
    "    "
   ]
  },
  {
   "cell_type": "code",
   "execution_count": 230,
   "metadata": {},
   "outputs": [],
   "source": [
    "def MBU_simplex(A,b, init_basis = None):\n",
    "    #initial solution\n",
    "    init_basis, table, b_hat = initial_solution2(A,b, init_basis)\n",
    "    print('initial solution:', '\\n' ,nice_table(table, b_hat, init_basis))\n",
    "    end_while= np.all(np.array(b_hat)>=0)\n",
    "    no_print=False\n",
    "    countr_outer = 0\n",
    "    while end_while==False:\n",
    "        countr_outer+=1\n",
    "        #set of indices where b_hat<0\n",
    "        index_minus_orig  = np.array(init_basis)[np.where(np.array(b_hat)<0)]\n",
    "        index_minus = np.array(range(A.shape[0]))[np.where(np.array(b_hat)<0)]\n",
    "        #indices, where b_hat>0\n",
    "        #index_plus_orig  = np.array(init_basis)[np.where(np.array(b_hat)>0)]\n",
    "        #index_plus = np.array(range(A.shape[0]))[np.where(np.array(b_hat)>0)]\n",
    "        r_original = np.min(index_minus_orig)\n",
    "        r = index_minus[np.argmin(index_minus_orig)]\n",
    "        #print(r)\n",
    "        rDone = False\n",
    "        #print(np.where(table[r, :]<0)[0])\n",
    "        countr_inner = 0\n",
    "        print('r=', 'x'+str(r_original))\n",
    "        while rDone==False:\n",
    "            \n",
    "            if list(np.where(table[r, :]<0)[0])==[]:\n",
    "                print('no feasible solution!')\n",
    "                no_print = True\n",
    "                rDone=True\n",
    "                end_while=True\n",
    "            else:\n",
    "                J_r_=np.where(table[r, :]<0)\n",
    "                J_r_original = np.array(range(table.shape[1]))[J_r_]\n",
    "                s = np.min(J_r_)\n",
    "                s_original = range(table.shape[1])[s]\n",
    "                theta1 = b_hat[r]/table[r,s]\n",
    "                print('s=', 'x'+str(s_original))\n",
    "\n",
    "                good_row = table[:,s][np.where((table[:,s]>0) & (b_hat>=0))]\n",
    "\n",
    "                good_b = b_hat[np.where((table[:,s]>0) & (b_hat>=0))]\n",
    "                \n",
    "                good_index = np.where((table[:,s]>0) & (b_hat>=0))\n",
    "                #print(good_b,good_index, good_index[0])\n",
    "                if list(good_b)==[]:\n",
    "                    theta2 = np.inf\n",
    "                else:\n",
    "                    theta2 = np.min(good_b/good_row)\n",
    "                    q = good_index[0][np.argmin(good_b/good_row)]\n",
    "                    #q_orig = range(table.shape[1])[q]\n",
    "                    q_orig = init_basis[q]\n",
    "                print('theta2 =', theta2, ', theta1 =', theta1)\n",
    "                \n",
    "                if theta1<=theta2:\n",
    "                    print('theta2>= theta1 => pivot on (r,s)=', '(','x'+str(r_original),',','x'+str(s_original), ')')\n",
    "                    table, b_hat = pivot(np.array(table), np.array(b_hat), r,s)\n",
    "                    rDone=True\n",
    "                    init_basis[r] = s_original\n",
    "                    print('new basis: ', ['x'+str(i) for i in init_basis])\n",
    "                    countr_inner +=1\n",
    "                    print('iterations: outer:', str(countr_outer), ' inner:', str(countr_inner))\n",
    "                    print('_ _ _ _ _ _ _ _ _ _ _ _ _ _ _ _ _ _ _ _ _ _ _ ')\n",
    "                if theta2<theta1:\n",
    "                    print('theta2< theta1 => pivot on (q,s)=', '(','x'+str(q_orig),',','x'+str(s_original), ')')\n",
    "                    table, b_hat = pivot(np.array(table), np.array(b_hat), q,s)\n",
    "                    init_basis[q] = s_original\n",
    "                    print('new basis: ', ['x'+str(i) for i in init_basis])\n",
    "                    countr_inner +=1\n",
    "                    print('iterations: outer:', str(countr_outer), ' inner:', str(countr_inner))\n",
    "                    print('. . . . . . . . . . . . . . . . . . . . . . .')\n",
    "                print(nice_table(table, b_hat, init_basis))\n",
    "                #print('b_hat', b_hat)\n",
    "                \n",
    "                end_while = np.all(np.array(b_hat)>=0)\n",
    "                #print(end_while)\n",
    "    if no_print == False:\n",
    "        solution = np.zeros((1,A.shape[1]))[0]\n",
    "        solution[init_basis]=b_hat\n",
    "        print('______________________________________________')\n",
    "        print('x =',solution,'\\n', 'check:', '\\n',  nice_table(A, b), '\\n','A*x = ', np.matmul(A, solution))\n",
    "        return(solution)\n",
    "    else:\n",
    "        return('no feasible solution!')\n",
    "                    \n",
    "                    \n",
    "    "
   ]
  },
  {
   "cell_type": "markdown",
   "metadata": {},
   "source": [
    "# examples"
   ]
  },
  {
   "cell_type": "markdown",
   "metadata": {},
   "source": [
    "## first example"
   ]
  },
  {
   "cell_type": "code",
   "execution_count": 231,
   "metadata": {},
   "outputs": [],
   "source": [
    "A = np.array([[1,0,0], [0,1,0], [0,0,-1]])\n",
    "b=np.array([1,2,3])"
   ]
  },
  {
   "cell_type": "code",
   "execution_count": 232,
   "metadata": {},
   "outputs": [
    {
     "name": "stdout",
     "output_type": "stream",
     "text": [
      "initial solution: \n",
      "      x0   x1   x2    b\n",
      "x0  1.0  0.0  0.0  1.0\n",
      "x1  0.0  1.0  0.0  2.0\n",
      "x2  0.0  0.0  1.0 -3.0\n",
      "r= x2\n",
      "no feasible solution!\n"
     ]
    },
    {
     "data": {
      "text/plain": [
       "'no feasible solution!'"
      ]
     },
     "execution_count": 232,
     "metadata": {},
     "output_type": "execute_result"
    }
   ],
   "source": [
    "MBU_simplex(A,b)"
   ]
  },
  {
   "cell_type": "markdown",
   "metadata": {},
   "source": [
    "## second example"
   ]
  },
  {
   "cell_type": "code",
   "execution_count": 233,
   "metadata": {},
   "outputs": [],
   "source": [
    "A=np.array([[1,2,0,-1,1,1,0],[1,0,2,1,1,0,0], [0,2,0,0,1,0,-1],[0,2,0,0,1,0,-1]])\n",
    "b = np.array([30,80,40, 40])"
   ]
  },
  {
   "cell_type": "code",
   "execution_count": 234,
   "metadata": {},
   "outputs": [
    {
     "name": "stdout",
     "output_type": "stream",
     "text": [
      "initial solution: \n",
      "      x0   x1   x2   x3   x4   x5   x6     b\n",
      "x0  1.0  0.0  0.0 -1.0  0.0  1.0  1.0 -10.0\n",
      "x1  0.0  1.0  0.0  0.0  0.5  0.0 -0.5  20.0\n",
      "x2  0.0  0.0  1.0  1.0  0.5 -0.5 -0.5  45.0\n",
      "r= x0\n",
      "s= x3\n",
      "theta2 = 45.0 , theta1 = 10.0\n",
      "theta2>= theta1 => pivot on (r,s)= ( x0 , x3 )\n",
      "new basis:  ['x3', 'x1', 'x2']\n",
      "iterations: outer: 1  inner: 1\n",
      "_ _ _ _ _ _ _ _ _ _ _ _ _ _ _ _ _ _ _ _ _ _ _ \n",
      "     x0   x1   x2   x3   x4   x5   x6     b\n",
      "x3 -1.0  0.0  0.0  1.0  0.0 -1.0 -1.0  10.0\n",
      "x1  0.0  1.0  0.0  0.0  0.5  0.0 -0.5  20.0\n",
      "x2  1.0  0.0  1.0  0.0  0.5  0.5  0.5  35.0\n",
      "______________________________________________\n",
      "x = [ 0. 20. 35. 10.  0.  0.  0.] \n",
      " check: \n",
      "    x0  x1  x2  x3  x4  x5  x6   b\n",
      "0   1   2   0  -1   1   1   0  30\n",
      "1   1   0   2   1   1   0   0  80\n",
      "2   0   2   0   0   1   0  -1  40\n",
      "3   0   2   0   0   1   0  -1  40 \n",
      " A*x =  [30. 80. 40. 40.]\n"
     ]
    },
    {
     "data": {
      "text/plain": [
       "array([ 0., 20., 35., 10.,  0.,  0.,  0.])"
      ]
     },
     "execution_count": 234,
     "metadata": {},
     "output_type": "execute_result"
    }
   ],
   "source": [
    "MBU_simplex(A,b)"
   ]
  },
  {
   "cell_type": "markdown",
   "metadata": {},
   "source": [
    "### with given initial solution"
   ]
  },
  {
   "cell_type": "code",
   "execution_count": 235,
   "metadata": {},
   "outputs": [
    {
     "name": "stdout",
     "output_type": "stream",
     "text": [
      "initial solution: \n",
      "      x0   x1   x2   x3   x4   x5   x6     b\n",
      "x5  1.0  2.0  0.0 -1.0  1.0  1.0  0.0  30.0\n",
      "x2  0.5  0.0  1.0  0.5  0.5  0.0  0.0  40.0\n",
      "x6  0.0 -2.0  0.0  0.0 -1.0  0.0  1.0 -40.0\n",
      "r= x6\n",
      "s= x1\n",
      "theta2 = 15.0 , theta1 = 20.0\n",
      "theta2< theta1 => pivot on (q,s)= ( x5 , x1 )\n",
      "new basis:  ['x1', 'x2', 'x6']\n",
      "iterations: outer: 1  inner: 1\n",
      ". . . . . . . . . . . . . . . . . . . . . . .\n",
      "     x0   x1   x2   x3   x4   x5   x6     b\n",
      "x1  0.5  1.0  0.0 -0.5  0.5  0.5  0.0  15.0\n",
      "x2  0.5  0.0  1.0  0.5  0.5  0.0  0.0  40.0\n",
      "x6  1.0  0.0  0.0 -1.0  0.0  1.0  1.0 -10.0\n",
      "s= x3\n",
      "theta2 = 80.0 , theta1 = 10.0\n",
      "theta2>= theta1 => pivot on (r,s)= ( x6 , x3 )\n",
      "new basis:  ['x1', 'x2', 'x3']\n",
      "iterations: outer: 1  inner: 2\n",
      "_ _ _ _ _ _ _ _ _ _ _ _ _ _ _ _ _ _ _ _ _ _ _ \n",
      "     x0   x1   x2   x3   x4   x5   x6     b\n",
      "x1  0.0  1.0  0.0  0.0  0.5  0.0 -0.5  20.0\n",
      "x2  1.0  0.0  1.0  0.0  0.5  0.5  0.5  35.0\n",
      "x3 -1.0  0.0  0.0  1.0  0.0 -1.0 -1.0  10.0\n",
      "______________________________________________\n",
      "x = [ 0. 20. 35. 10.  0.  0.  0.] \n",
      " check: \n",
      "    x0  x1  x2  x3  x4  x5  x6   b\n",
      "0   1   2   0  -1   1   1   0  30\n",
      "1   1   0   2   1   1   0   0  80\n",
      "2   0   2   0   0   1   0  -1  40\n",
      "3   0   2   0   0   1   0  -1  40 \n",
      " A*x =  [30. 80. 40. 40.]\n"
     ]
    },
    {
     "data": {
      "text/plain": [
       "array([ 0., 20., 35., 10.,  0.,  0.,  0.])"
      ]
     },
     "execution_count": 235,
     "metadata": {},
     "output_type": "execute_result"
    }
   ],
   "source": [
    "MBU_simplex(A,b, [5,2,6])"
   ]
  },
  {
   "cell_type": "code",
   "execution_count": 236,
   "metadata": {},
   "outputs": [],
   "source": [
    "A=np.array([[-1,0,-1,1,1,0,0], [-1, -1, -2, -3, 0, 1, 0], [1, 0, 0, -2, 0, 0, 1]])\n",
    "b=np.array([-2,-2, -3])"
   ]
  },
  {
   "cell_type": "code",
   "execution_count": 237,
   "metadata": {},
   "outputs": [
    {
     "name": "stdout",
     "output_type": "stream",
     "text": [
      "initial solution: \n",
      "      x0   x1   x2   x3   x4   x5   x6    b\n",
      "x0  1.0  0.0  0.0 -2.0  0.0  0.0  1.0 -3.0\n",
      "x1  0.0  1.0  0.0  3.0  2.0 -1.0  1.0 -5.0\n",
      "x2  0.0  0.0  1.0  1.0 -1.0  0.0 -1.0  5.0\n",
      "r= x0\n",
      "s= x3\n",
      "theta2 = 5.0 , theta1 = 1.5\n",
      "theta2>= theta1 => pivot on (r,s)= ( x0 , x3 )\n",
      "new basis:  ['x3', 'x1', 'x2']\n",
      "iterations: outer: 1  inner: 1\n",
      "_ _ _ _ _ _ _ _ _ _ _ _ _ _ _ _ _ _ _ _ _ _ _ \n",
      "     x0   x1   x2   x3   x4   x5   x6    b\n",
      "x3 -0.5  0.0  0.0  1.0  0.0  0.0 -0.5  1.5\n",
      "x1  1.5  1.0  0.0  0.0  2.0 -1.0  2.5 -9.5\n",
      "x2  0.5  0.0  1.0  0.0 -1.0  0.0 -0.5  3.5\n",
      "r= x1\n",
      "s= x5\n",
      "theta2 = inf , theta1 = 9.5\n",
      "theta2>= theta1 => pivot on (r,s)= ( x1 , x5 )\n",
      "new basis:  ['x3', 'x5', 'x2']\n",
      "iterations: outer: 2  inner: 1\n",
      "_ _ _ _ _ _ _ _ _ _ _ _ _ _ _ _ _ _ _ _ _ _ _ \n",
      "     x0   x1   x2   x3   x4   x5   x6    b\n",
      "x3 -0.5  0.0  0.0  1.0  0.0  0.0 -0.5  1.5\n",
      "x5 -1.5 -1.0  0.0  0.0 -2.0  1.0 -2.5  9.5\n",
      "x2  0.5  0.0  1.0  0.0 -1.0  0.0 -0.5  3.5\n",
      "______________________________________________\n",
      "x = [0.  0.  3.5 1.5 0.  9.5 0. ] \n",
      " check: \n",
      "    x0  x1  x2  x3  x4  x5  x6  b\n",
      "0  -1   0  -1   1   1   0   0 -2\n",
      "1  -1  -1  -2  -3   0   1   0 -2\n",
      "2   1   0   0  -2   0   0   1 -3 \n",
      " A*x =  [-2. -2. -3.]\n"
     ]
    },
    {
     "data": {
      "text/plain": [
       "array([0. , 0. , 3.5, 1.5, 0. , 9.5, 0. ])"
      ]
     },
     "execution_count": 237,
     "metadata": {},
     "output_type": "execute_result"
    }
   ],
   "source": [
    "MBU_simplex(A,b)"
   ]
  },
  {
   "cell_type": "code",
   "execution_count": 238,
   "metadata": {},
   "outputs": [],
   "source": [
    "A=np.array([[1,-2,1,0,0], [0,0,0,1,0], [-4,0,0,0,1]])\n",
    "b=np.array([0,1,-2])"
   ]
  },
  {
   "cell_type": "code",
   "execution_count": 239,
   "metadata": {},
   "outputs": [
    {
     "name": "stdout",
     "output_type": "stream",
     "text": [
      "initial solution: \n",
      "      x0   x1   x2   x3   x4    b\n",
      "x2  1.0 -2.0  1.0  0.0  0.0  0.0\n",
      "x3  0.0  0.0  0.0  1.0  0.0  1.0\n",
      "x4 -4.0  0.0  0.0  0.0  1.0 -2.0\n",
      "r= x4\n",
      "s= x0\n",
      "theta2 = 0.0 , theta1 = 0.5\n",
      "theta2< theta1 => pivot on (q,s)= ( x2 , x0 )\n",
      "new basis:  ['x0', 'x3', 'x4']\n",
      "iterations: outer: 1  inner: 1\n",
      ". . . . . . . . . . . . . . . . . . . . . . .\n",
      "     x0   x1   x2   x3   x4    b\n",
      "x0  1.0 -2.0  1.0  0.0  0.0  0.0\n",
      "x3  0.0  0.0  0.0  1.0  0.0  1.0\n",
      "x4  0.0 -8.0  4.0  0.0  1.0 -2.0\n",
      "s= x1\n",
      "theta2 = inf , theta1 = 0.25\n",
      "theta2>= theta1 => pivot on (r,s)= ( x4 , x1 )\n",
      "new basis:  ['x0', 'x3', 'x1']\n",
      "iterations: outer: 1  inner: 2\n",
      "_ _ _ _ _ _ _ _ _ _ _ _ _ _ _ _ _ _ _ _ _ _ _ \n",
      "     x0   x1   x2   x3     x4     b\n",
      "x0  1.0  0.0  0.0  0.0 -0.250  0.50\n",
      "x3  0.0  0.0  0.0  1.0  0.000  1.00\n",
      "x1  0.0  1.0 -0.5  0.0 -0.125  0.25\n",
      "______________________________________________\n",
      "x = [0.5  0.25 0.   1.   0.  ] \n",
      " check: \n",
      "    x0  x1  x2  x3  x4  b\n",
      "0   1  -2   1   0   0  0\n",
      "1   0   0   0   1   0  1\n",
      "2  -4   0   0   0   1 -2 \n",
      " A*x =  [ 0.  1. -2.]\n"
     ]
    },
    {
     "data": {
      "text/plain": [
       "array([0.5 , 0.25, 0.  , 1.  , 0.  ])"
      ]
     },
     "execution_count": 239,
     "metadata": {},
     "output_type": "execute_result"
    }
   ],
   "source": [
    "MBU_simplex(A,b, [2,3,4])"
   ]
  },
  {
   "cell_type": "markdown",
   "metadata": {},
   "source": [
    "______________________________________________________"
   ]
  },
  {
   "cell_type": "code",
   "execution_count": 22,
   "metadata": {},
   "outputs": [],
   "source": [
    "akk = ['x1','x2','x3']"
   ]
  },
  {
   "cell_type": "code",
   "execution_count": 23,
   "metadata": {},
   "outputs": [
    {
     "data": {
      "text/plain": [
       "['x0', 'x1', 'x2', 'x3', 'x4']"
      ]
     },
     "execution_count": 23,
     "metadata": {},
     "output_type": "execute_result"
    }
   ],
   "source": [
    "['x'+str(i) for i in range(A.shape[1])]"
   ]
  },
  {
   "cell_type": "code",
   "execution_count": 269,
   "metadata": {},
   "outputs": [
    {
     "data": {
      "text/plain": [
       "[array([[ 1,  2,  0, -1,  1,  1,  0],\n",
       "        [ 1,  0,  2,  1,  1,  0,  0],\n",
       "        [ 0,  2,  0,  0,  1,  0, -1]]), array([30, 80, 40]), array([1, 2, 3])]"
      ]
     },
     "execution_count": 269,
     "metadata": {},
     "output_type": "execute_result"
    }
   ],
   "source": [
    "[A,np.array(b).T ,np.array(akk).T]"
   ]
  },
  {
   "cell_type": "code",
   "execution_count": 273,
   "metadata": {},
   "outputs": [
    {
     "ename": "ValueError",
     "evalue": "all the input arrays must have same number of dimensions",
     "output_type": "error",
     "traceback": [
      "\u001b[1;31m---------------------------------------------------------------------------\u001b[0m",
      "\u001b[1;31mValueError\u001b[0m                                Traceback (most recent call last)",
      "\u001b[1;32m<ipython-input-273-987cdf8c3bd8>\u001b[0m in \u001b[0;36m<module>\u001b[1;34m\u001b[0m\n\u001b[1;32m----> 1\u001b[1;33m \u001b[0mnp\u001b[0m\u001b[1;33m.\u001b[0m\u001b[0mconcatenate\u001b[0m\u001b[1;33m(\u001b[0m\u001b[1;33m[\u001b[0m\u001b[0mA\u001b[0m\u001b[1;33m.\u001b[0m\u001b[0mT\u001b[0m\u001b[1;33m,\u001b[0m\u001b[0mb\u001b[0m \u001b[1;33m]\u001b[0m\u001b[1;33m)\u001b[0m\u001b[1;33m\u001b[0m\u001b[1;33m\u001b[0m\u001b[0m\n\u001b[0m",
      "\u001b[1;31mValueError\u001b[0m: all the input arrays must have same number of dimensions"
     ]
    }
   ],
   "source": [
    "np.concatenate([A.T,b ])"
   ]
  },
  {
   "cell_type": "code",
   "execution_count": 274,
   "metadata": {},
   "outputs": [
    {
     "data": {
      "text/plain": [
       "array([[ 1,  1,  0],\n",
       "       [ 2,  0,  2],\n",
       "       [ 0,  2,  0],\n",
       "       [-1,  1,  0],\n",
       "       [ 1,  1,  1],\n",
       "       [ 1,  0,  0],\n",
       "       [ 0,  0, -1]])"
      ]
     },
     "execution_count": 274,
     "metadata": {},
     "output_type": "execute_result"
    }
   ],
   "source": []
  },
  {
   "cell_type": "code",
   "execution_count": 278,
   "metadata": {},
   "outputs": [],
   "source": [
    "makako = pd.DataFrame(A, columns = ['x'+str(i) for i in range(A.shape[1])])"
   ]
  },
  {
   "cell_type": "code",
   "execution_count": 279,
   "metadata": {},
   "outputs": [],
   "source": [
    "makako['b'] = b"
   ]
  },
  {
   "cell_type": "code",
   "execution_count": 287,
   "metadata": {},
   "outputs": [],
   "source": [
    "makako.index = akk"
   ]
  },
  {
   "cell_type": "code",
   "execution_count": 289,
   "metadata": {},
   "outputs": [
    {
     "name": "stdout",
     "output_type": "stream",
     "text": [
      "    x0  x1  x2  x3  x4  x5  x6   b\n",
      "x1   1   2   0  -1   1   1   0  30\n",
      "x2   1   0   2   1   1   0   0  80\n",
      "x3   0   2   0   0   1   0  -1  40\n"
     ]
    }
   ],
   "source": [
    "print(makako)"
   ]
  },
  {
   "cell_type": "code",
   "execution_count": 189,
   "metadata": {},
   "outputs": [],
   "source": [
    "b_hat = [ 30. , 40., -40.]"
   ]
  },
  {
   "cell_type": "code",
   "execution_count": 153,
   "metadata": {},
   "outputs": [
    {
     "data": {
      "text/plain": [
       "2"
      ]
     },
     "execution_count": 153,
     "metadata": {},
     "output_type": "execute_result"
    }
   ],
   "source": [
    "np.array(range(A.shape[0]))["
   ]
  },
  {
   "cell_type": "code",
   "execution_count": 127,
   "metadata": {},
   "outputs": [
    {
     "ename": "NameError",
     "evalue": "name 'b_hat' is not defined",
     "output_type": "error",
     "traceback": [
      "\u001b[1;31m---------------------------------------------------------------------------\u001b[0m",
      "\u001b[1;31mNameError\u001b[0m                                 Traceback (most recent call last)",
      "\u001b[1;32m<ipython-input-127-2a7a5aeb5bb0>\u001b[0m in \u001b[0;36m<module>\u001b[1;34m\u001b[0m\n\u001b[1;32m----> 1\u001b[1;33m \u001b[1;33m[\u001b[0m\u001b[0mnp\u001b[0m\u001b[1;33m.\u001b[0m\u001b[0mwhere\u001b[0m\u001b[1;33m(\u001b[0m\u001b[0mnp\u001b[0m\u001b[1;33m.\u001b[0m\u001b[0marray\u001b[0m\u001b[1;33m(\u001b[0m\u001b[1;33m[\u001b[0m\u001b[0mb_hat\u001b[0m\u001b[1;33m]\u001b[0m\u001b[1;33m)\u001b[0m\u001b[1;33m<\u001b[0m\u001b[1;36m0\u001b[0m\u001b[1;33m)\u001b[0m\u001b[1;33m]\u001b[0m\u001b[1;33m\u001b[0m\u001b[1;33m\u001b[0m\u001b[0m\n\u001b[0m",
      "\u001b[1;31mNameError\u001b[0m: name 'b_hat' is not defined"
     ]
    }
   ],
   "source": [
    "[np.where(np.array([b_hat])<0)]"
   ]
  },
  {
   "cell_type": "code",
   "execution_count": 112,
   "metadata": {},
   "outputs": [
    {
     "data": {
      "text/plain": [
       "(array([0], dtype=int64),)"
      ]
     },
     "execution_count": 112,
     "metadata": {},
     "output_type": "execute_result"
    }
   ],
   "source": [
    "np.where(kalap==1)"
   ]
  },
  {
   "cell_type": "code",
   "execution_count": 106,
   "metadata": {},
   "outputs": [],
   "source": [
    "kalap = np.array([1,2,3])\n",
    "kabat = np.array([1,2,3])\n"
   ]
  },
  {
   "cell_type": "code",
   "execution_count": 110,
   "metadata": {},
   "outputs": [
    {
     "data": {
      "text/plain": [
       "True"
      ]
     },
     "execution_count": 110,
     "metadata": {},
     "output_type": "execute_result"
    }
   ],
   "source": [
    "np.all(np.array([1,2,3])>=0)"
   ]
  },
  {
   "cell_type": "code",
   "execution_count": 107,
   "metadata": {},
   "outputs": [
    {
     "data": {
      "text/plain": [
       "array([1., 1., 1.])"
      ]
     },
     "execution_count": 107,
     "metadata": {},
     "output_type": "execute_result"
    }
   ],
   "source": [
    "kalap/kabat"
   ]
  },
  {
   "cell_type": "code",
   "execution_count": 95,
   "metadata": {},
   "outputs": [],
   "source": []
  },
  {
   "cell_type": "code",
   "execution_count": 101,
   "metadata": {},
   "outputs": [
    {
     "data": {
      "text/plain": [
       "array([1, 0, 2, 1, 1, 0, 0])"
      ]
     },
     "execution_count": 101,
     "metadata": {},
     "output_type": "execute_result"
    }
   ],
   "source": [
    "A[1, :]"
   ]
  },
  {
   "cell_type": "code",
   "execution_count": 105,
   "metadata": {},
   "outputs": [
    {
     "data": {
      "text/plain": [
       "(array([0, 1, 4], dtype=int64),)"
      ]
     },
     "execution_count": 105,
     "metadata": {},
     "output_type": "execute_result"
    }
   ],
   "source": [
    "np.where(np.array([-1,-2,4,5,-7,3,9])<0)"
   ]
  },
  {
   "cell_type": "code",
   "execution_count": 94,
   "metadata": {},
   "outputs": [
    {
     "data": {
      "text/plain": [
       "array([-0.5,  0. , -0.5])"
      ]
     },
     "execution_count": 94,
     "metadata": {},
     "output_type": "execute_result"
    }
   ],
   "source": [
    "-A[:,1]/4"
   ]
  },
  {
   "cell_type": "code",
   "execution_count": 51,
   "metadata": {},
   "outputs": [
    {
     "data": {
      "text/plain": [
       "(array([1, 2, 5], dtype=int64),)"
      ]
     },
     "execution_count": 51,
     "metadata": {},
     "output_type": "execute_result"
    }
   ],
   "source": [
    "np.where(np.array([5,-2,-4,5,7,-8])<0)"
   ]
  },
  {
   "cell_type": "code",
   "execution_count": 55,
   "metadata": {},
   "outputs": [
    {
     "data": {
      "text/plain": [
       "0"
      ]
     },
     "execution_count": 55,
     "metadata": {},
     "output_type": "execute_result"
    }
   ],
   "source": [
    "np.argmin(np.array([7,8,9,10,11,12])[np.where(np.array([5,-2,-4,5,7,-8])<0)])"
   ]
  },
  {
   "cell_type": "code",
   "execution_count": 121,
   "metadata": {},
   "outputs": [],
   "source": []
  },
  {
   "cell_type": "code",
   "execution_count": 66,
   "metadata": {},
   "outputs": [],
   "source": [
    "roka, kakao, makao, a_inv = initial_solution(A,b, [5,2,6])"
   ]
  },
  {
   "cell_type": "raw",
   "metadata": {},
   "source": []
  },
  {
   "cell_type": "code",
   "execution_count": 64,
   "metadata": {},
   "outputs": [
    {
     "data": {
      "text/plain": [
       "[5, 2, 6]"
      ]
     },
     "execution_count": 64,
     "metadata": {},
     "output_type": "execute_result"
    }
   ],
   "source": [
    "roka"
   ]
  },
  {
   "cell_type": "code",
   "execution_count": 194,
   "metadata": {},
   "outputs": [
    {
     "data": {
      "text/plain": [
       "array([[ 1. ,  2. ,  0. , -1. ,  1. ,  1. ,  0. ],\n",
       "       [ 0.5,  0. ,  1. ,  0.5,  0.5,  0. ,  0. ],\n",
       "       [ 0. , -2. ,  0. ,  0. , -1. ,  0. ,  1. ]])"
      ]
     },
     "execution_count": 194,
     "metadata": {},
     "output_type": "execute_result"
    }
   ],
   "source": [
    "kakao"
   ]
  },
  {
   "cell_type": "code",
   "execution_count": 191,
   "metadata": {},
   "outputs": [],
   "source": [
    "alma, korte = pivot(kakao, makao, 0,1)"
   ]
  },
  {
   "cell_type": "code",
   "execution_count": 192,
   "metadata": {},
   "outputs": [
    {
     "data": {
      "text/plain": [
       "array([[ 0.5,  1. ,  0. , -0.5,  0.5,  0.5,  0. ],\n",
       "       [ 0.5,  0. ,  1. ,  0.5,  0.5,  0. ,  0. ],\n",
       "       [ 1. ,  0. ,  0. , -1. ,  0. ,  1. ,  1. ]])"
      ]
     },
     "execution_count": 192,
     "metadata": {},
     "output_type": "execute_result"
    }
   ],
   "source": [
    "alma"
   ]
  },
  {
   "cell_type": "code",
   "execution_count": 193,
   "metadata": {},
   "outputs": [
    {
     "data": {
      "text/plain": [
       "array([ 15.,  40., -10.])"
      ]
     },
     "execution_count": 193,
     "metadata": {},
     "output_type": "execute_result"
    }
   ],
   "source": [
    "korte"
   ]
  },
  {
   "cell_type": "code",
   "execution_count": 76,
   "metadata": {},
   "outputs": [],
   "source": [
    "P = np.array([[1/2,0,0], [0,1,0], [1,0,1]])"
   ]
  },
  {
   "cell_type": "code",
   "execution_count": 77,
   "metadata": {},
   "outputs": [
    {
     "data": {
      "text/plain": [
       "array([[ 0.5,  1. ,  0. , -0.5,  0.5,  0.5,  0. ],\n",
       "       [ 0.5,  0. ,  1. ,  0.5,  0.5,  0. ,  0. ],\n",
       "       [ 1. ,  0. ,  0. , -1. ,  0. ,  1. ,  1. ]])"
      ]
     },
     "execution_count": 77,
     "metadata": {},
     "output_type": "execute_result"
    }
   ],
   "source": [
    "np.matmul(P, kakao)"
   ]
  },
  {
   "cell_type": "code",
   "execution_count": 90,
   "metadata": {},
   "outputs": [
    {
     "data": {
      "text/plain": [
       "array([ 15.,  40., -10.])"
      ]
     },
     "execution_count": 90,
     "metadata": {},
     "output_type": "execute_result"
    }
   ],
   "source": [
    "np.matmul(P, makao)"
   ]
  },
  {
   "cell_type": "code",
   "execution_count": 86,
   "metadata": {},
   "outputs": [],
   "source": [
    "ido = np.identity(A.shape[0])"
   ]
  },
  {
   "cell_type": "code",
   "execution_count": 87,
   "metadata": {},
   "outputs": [
    {
     "data": {
      "text/plain": [
       "array([[1., 0., 0.],\n",
       "       [0., 1., 0.],\n",
       "       [0., 0., 1.]])"
      ]
     },
     "execution_count": 87,
     "metadata": {},
     "output_type": "execute_result"
    }
   ],
   "source": [
    "ido"
   ]
  },
  {
   "cell_type": "code",
   "execution_count": 88,
   "metadata": {},
   "outputs": [],
   "source": [
    "ido[:, 0] = [1/2, 0, 1]"
   ]
  },
  {
   "cell_type": "code",
   "execution_count": 89,
   "metadata": {},
   "outputs": [
    {
     "data": {
      "text/plain": [
       "array([[0.5, 0. , 0. ],\n",
       "       [0. , 1. , 0. ],\n",
       "       [1. , 0. , 1. ]])"
      ]
     },
     "execution_count": 89,
     "metadata": {},
     "output_type": "execute_result"
    }
   ],
   "source": [
    "ido"
   ]
  },
  {
   "cell_type": "code",
   "execution_count": 62,
   "metadata": {},
   "outputs": [
    {
     "ename": "LinAlgError",
     "evalue": "Last 2 dimensions of the array must be square",
     "output_type": "error",
     "traceback": [
      "\u001b[1;31m---------------------------------------------------------------------------\u001b[0m",
      "\u001b[1;31mLinAlgError\u001b[0m                               Traceback (most recent call last)",
      "\u001b[1;32m<ipython-input-62-64a232b0130a>\u001b[0m in \u001b[0;36m<module>\u001b[1;34m\u001b[0m\n\u001b[1;32m----> 1\u001b[1;33m \u001b[0mnp\u001b[0m\u001b[1;33m.\u001b[0m\u001b[0mlinalg\u001b[0m\u001b[1;33m.\u001b[0m\u001b[0minv\u001b[0m\u001b[1;33m(\u001b[0m\u001b[0mkakao\u001b[0m\u001b[1;33m)\u001b[0m\u001b[1;33m\u001b[0m\u001b[1;33m\u001b[0m\u001b[0m\n\u001b[0m",
      "\u001b[1;32m~\\AppData\\Local\\Continuum\\anaconda3\\lib\\site-packages\\numpy\\linalg\\linalg.py\u001b[0m in \u001b[0;36minv\u001b[1;34m(a)\u001b[0m\n\u001b[0;32m    544\u001b[0m     \u001b[0ma\u001b[0m\u001b[1;33m,\u001b[0m \u001b[0mwrap\u001b[0m \u001b[1;33m=\u001b[0m \u001b[0m_makearray\u001b[0m\u001b[1;33m(\u001b[0m\u001b[0ma\u001b[0m\u001b[1;33m)\u001b[0m\u001b[1;33m\u001b[0m\u001b[1;33m\u001b[0m\u001b[0m\n\u001b[0;32m    545\u001b[0m     \u001b[0m_assertRankAtLeast2\u001b[0m\u001b[1;33m(\u001b[0m\u001b[0ma\u001b[0m\u001b[1;33m)\u001b[0m\u001b[1;33m\u001b[0m\u001b[1;33m\u001b[0m\u001b[0m\n\u001b[1;32m--> 546\u001b[1;33m     \u001b[0m_assertNdSquareness\u001b[0m\u001b[1;33m(\u001b[0m\u001b[0ma\u001b[0m\u001b[1;33m)\u001b[0m\u001b[1;33m\u001b[0m\u001b[1;33m\u001b[0m\u001b[0m\n\u001b[0m\u001b[0;32m    547\u001b[0m     \u001b[0mt\u001b[0m\u001b[1;33m,\u001b[0m \u001b[0mresult_t\u001b[0m \u001b[1;33m=\u001b[0m \u001b[0m_commonType\u001b[0m\u001b[1;33m(\u001b[0m\u001b[0ma\u001b[0m\u001b[1;33m)\u001b[0m\u001b[1;33m\u001b[0m\u001b[1;33m\u001b[0m\u001b[0m\n\u001b[0;32m    548\u001b[0m \u001b[1;33m\u001b[0m\u001b[0m\n",
      "\u001b[1;32m~\\AppData\\Local\\Continuum\\anaconda3\\lib\\site-packages\\numpy\\linalg\\linalg.py\u001b[0m in \u001b[0;36m_assertNdSquareness\u001b[1;34m(*arrays)\u001b[0m\n\u001b[0;32m    211\u001b[0m         \u001b[0mm\u001b[0m\u001b[1;33m,\u001b[0m \u001b[0mn\u001b[0m \u001b[1;33m=\u001b[0m \u001b[0ma\u001b[0m\u001b[1;33m.\u001b[0m\u001b[0mshape\u001b[0m\u001b[1;33m[\u001b[0m\u001b[1;33m-\u001b[0m\u001b[1;36m2\u001b[0m\u001b[1;33m:\u001b[0m\u001b[1;33m]\u001b[0m\u001b[1;33m\u001b[0m\u001b[1;33m\u001b[0m\u001b[0m\n\u001b[0;32m    212\u001b[0m         \u001b[1;32mif\u001b[0m \u001b[0mm\u001b[0m \u001b[1;33m!=\u001b[0m \u001b[0mn\u001b[0m\u001b[1;33m:\u001b[0m\u001b[1;33m\u001b[0m\u001b[1;33m\u001b[0m\u001b[0m\n\u001b[1;32m--> 213\u001b[1;33m             \u001b[1;32mraise\u001b[0m \u001b[0mLinAlgError\u001b[0m\u001b[1;33m(\u001b[0m\u001b[1;34m'Last 2 dimensions of the array must be square'\u001b[0m\u001b[1;33m)\u001b[0m\u001b[1;33m\u001b[0m\u001b[1;33m\u001b[0m\u001b[0m\n\u001b[0m\u001b[0;32m    214\u001b[0m \u001b[1;33m\u001b[0m\u001b[0m\n\u001b[0;32m    215\u001b[0m \u001b[1;32mdef\u001b[0m \u001b[0m_assertFinite\u001b[0m\u001b[1;33m(\u001b[0m\u001b[1;33m*\u001b[0m\u001b[0marrays\u001b[0m\u001b[1;33m)\u001b[0m\u001b[1;33m:\u001b[0m\u001b[1;33m\u001b[0m\u001b[1;33m\u001b[0m\u001b[0m\n",
      "\u001b[1;31mLinAlgError\u001b[0m: Last 2 dimensions of the array must be square"
     ]
    }
   ],
   "source": [
    "np.linalg.inv()"
   ]
  },
  {
   "cell_type": "code",
   "execution_count": 23,
   "metadata": {},
   "outputs": [
    {
     "data": {
      "text/plain": [
       "(3, 7)"
      ]
     },
     "execution_count": 23,
     "metadata": {},
     "output_type": "execute_result"
    }
   ],
   "source": [
    "A.shape"
   ]
  },
  {
   "cell_type": "code",
   "execution_count": 389,
   "metadata": {},
   "outputs": [],
   "source": [
    "A=np.array([[1,2,0,-1,1,1,0],[1,0,2,1,1,0,0], [0,2,0,0,1,0,-1]])"
   ]
  },
  {
   "cell_type": "code",
   "execution_count": 390,
   "metadata": {},
   "outputs": [],
   "source": [
    "b = np.array([30,80,40])"
   ]
  },
  {
   "cell_type": "code",
   "execution_count": 7,
   "metadata": {},
   "outputs": [
    {
     "data": {
      "text/plain": [
       "3"
      ]
     },
     "execution_count": 7,
     "metadata": {},
     "output_type": "execute_result"
    }
   ],
   "source": [
    "np.linalg.matrix_rank(A)"
   ]
  },
  {
   "cell_type": "code",
   "execution_count": 14,
   "metadata": {},
   "outputs": [
    {
     "data": {
      "text/plain": [
       "array([[1, 0],\n",
       "       [0, 0],\n",
       "       [0, 1]])"
      ]
     },
     "execution_count": 14,
     "metadata": {},
     "output_type": "execute_result"
    }
   ],
   "source": [
    "A[np.ix_([0,1,2], [0,2])]"
   ]
  },
  {
   "cell_type": "code",
   "execution_count": 17,
   "metadata": {},
   "outputs": [
    {
     "name": "stdout",
     "output_type": "stream",
     "text": [
      "[0, 1, 2]\n",
      "[0, 1, 3]\n",
      "[0, 1, 4]\n",
      "[0, 2, 3]\n",
      "[0, 2, 4]\n",
      "[0, 3, 4]\n",
      "[1, 2, 3]\n",
      "[1, 2, 4]\n",
      "[1, 3, 4]\n",
      "[2, 3, 4]\n"
     ]
    }
   ],
   "source": [
    "import itertools\n",
    "for comb in itertools.combinations([0,1, 2, 3, 4], 3):\n",
    "    print(list(comb))"
   ]
  },
  {
   "cell_type": "code",
   "execution_count": 360,
   "metadata": {},
   "outputs": [
    {
     "data": {
      "text/plain": [
       "array([ 1,  2,  5,  6,  9, 10, 13, 14, 17, 18, 21, 22, 25, 26, 29, 30, 33,\n",
       "       34, 37, 38, 41, 42, 45, 46, 49, 50, 53, 54, 57, 58, 61, 62, 65, 66,\n",
       "       69, 70, 73, 74, 77, 78, 81, 82])"
      ]
     },
     "execution_count": 360,
     "metadata": {},
     "output_type": "execute_result"
    }
   ],
   "source": [
    "np.concatenate([[4*i+1, 4*i+2] for i in range(21)])"
   ]
  },
  {
   "cell_type": "code",
   "execution_count": 361,
   "metadata": {},
   "outputs": [
    {
     "data": {
      "text/plain": [
       "array([ 3,  4,  7,  8, 11, 12, 15, 16, 19, 20, 23, 24, 27, 28, 31, 32, 35,\n",
       "       36, 39, 40, 43, 44, 47, 48, 51, 52, 55, 56, 59, 60, 63, 64, 67, 68,\n",
       "       71, 72, 75, 76, 79, 80, 83, 84])"
      ]
     },
     "execution_count": 361,
     "metadata": {},
     "output_type": "execute_result"
    }
   ],
   "source": [
    "np.concatenate([[4*i+3, 4*i+4] for i in range(21)])"
   ]
  },
  {
   "cell_type": "code",
   "execution_count": null,
   "metadata": {},
   "outputs": [],
   "source": [
    "19, 20, 23, 24, 27, 28, 31, 32"
   ]
  },
  {
   "cell_type": "code",
   "execution_count": null,
   "metadata": {},
   "outputs": [],
   "source": [
    "35, 36, 39, 40, 43, 44, 47, 48"
   ]
  },
  {
   "cell_type": "code",
   "execution_count": null,
   "metadata": {},
   "outputs": [],
   "source": [
    "51, 52, 55, 56, 59, 60, 63, 64"
   ]
  },
  {
   "cell_type": "code",
   "execution_count": null,
   "metadata": {},
   "outputs": [],
   "source": [
    "67, 68, 71, 72, 75, 76, 79, 80 "
   ]
  },
  {
   "cell_type": "code",
   "execution_count": 3,
   "metadata": {},
   "outputs": [],
   "source": [
    "A=np.array([[1,2,0,-1,1,1,0],[1,0,2,1,1,0,0], [0,2,0,0,1,0,-1]])"
   ]
  },
  {
   "cell_type": "code",
   "execution_count": 61,
   "metadata": {},
   "outputs": [],
   "source": [
    "U,s,V = np.linalg.svd(A)"
   ]
  },
  {
   "cell_type": "code",
   "execution_count": 62,
   "metadata": {},
   "outputs": [
    {
     "data": {
      "text/plain": [
       "array([[-5.94935890e-01,  1.07717292e-01,  7.96522612e-01,\n",
       "         4.84613418e-17],\n",
       "       [-1.60735547e-01, -9.86906438e-01,  1.34077081e-02,\n",
       "        -6.88006894e-17],\n",
       "       [-5.56873132e-01,  8.48901286e-02, -4.27417806e-01,\n",
       "        -7.07106781e-01],\n",
       "       [-5.56873132e-01,  8.48901286e-02, -4.27417806e-01,\n",
       "         7.07106781e-01]])"
      ]
     },
     "execution_count": 62,
     "metadata": {},
     "output_type": "execute_result"
    }
   ],
   "source": [
    "U"
   ]
  },
  {
   "cell_type": "code",
   "execution_count": 63,
   "metadata": {},
   "outputs": [
    {
     "data": {
      "text/plain": [
       "array([4.19885624e+00, 2.59206883e+00, 1.62812329e+00, 1.94729607e-16])"
      ]
     },
     "execution_count": 63,
     "metadata": {},
     "output_type": "execute_result"
    }
   ],
   "source": [
    "s"
   ]
  },
  {
   "cell_type": "code",
   "execution_count": 64,
   "metadata": {},
   "outputs": [
    {
     "data": {
      "text/plain": [
       "array([[-0.17997078, -0.81387981, -0.07656159,  0.10340919, -0.4452207 ,\n",
       "        -0.14168999,  0.26524992],\n",
       "       [-0.33918434,  0.21411279, -0.76148166, -0.42229732, -0.27368443,\n",
       "         0.04155649, -0.0654999 ],\n",
       "       [ 0.49746252, -0.07163217,  0.01647014, -0.48099238, -0.02758101,\n",
       "         0.48922745,  0.52504354],\n",
       "       [-0.60556081,  0.31022157,  0.54698639, -0.17899693, -0.30941505,\n",
       "         0.11553579,  0.31102809],\n",
       "       [-0.43741557, -0.29074733, -0.06508732, -0.22357087,  0.79116108,\n",
       "         0.00417829,  0.20966641],\n",
       "       [-0.21673045, -0.09018292, -0.11726053,  0.44590233,  0.00534917,\n",
       "         0.83764944, -0.17501666],\n",
       "       [ 0.00933671,  0.31260168, -0.31117878,  0.5465941 ,  0.06642675,\n",
       "        -0.15437272,  0.69163012]])"
      ]
     },
     "execution_count": 64,
     "metadata": {},
     "output_type": "execute_result"
    }
   ],
   "source": [
    "V"
   ]
  },
  {
   "cell_type": "code",
   "execution_count": 69,
   "metadata": {},
   "outputs": [
    {
     "data": {
      "text/plain": [
       "array([[ 1,  2,  0, -1,  1,  1,  0],\n",
       "       [ 1,  0,  2,  1,  1,  0,  0],\n",
       "       [ 0,  2,  0,  0,  1,  0, -1],\n",
       "       [ 0,  2,  0,  0,  1,  0, -1]])"
      ]
     },
     "execution_count": 69,
     "metadata": {},
     "output_type": "execute_result"
    }
   ],
   "source": [
    "A"
   ]
  },
  {
   "cell_type": "code",
   "execution_count": 67,
   "metadata": {},
   "outputs": [],
   "source": [
    "A_inv = np.linalg.pinv(A)"
   ]
  },
  {
   "cell_type": "code",
   "execution_count": 68,
   "metadata": {},
   "outputs": [
    {
     "data": {
      "text/plain": [
       "array([[ 0.39490446,  0.03821656,  0.28025478, -0.11464968,  0.15923567,\n",
       "         0.25477707,  0.23566879],\n",
       "       [ 0.03821656,  0.7133758 , -0.10191083, -0.14012739,  0.30573248,\n",
       "         0.08917197, -0.26751592],\n",
       "       [ 0.28025478, -0.10191083,  0.58598726,  0.30573248,  0.24203822,\n",
       "        -0.01273885,  0.03821656],\n",
       "       [-0.11464968, -0.14012739,  0.30573248,  0.42038217,  0.08280255,\n",
       "        -0.26751592, -0.19745223],\n",
       "       [ 0.15923567,  0.30573248,  0.24203822,  0.08280255,  0.27388535,\n",
       "         0.03821656, -0.11464968],\n",
       "       [ 0.25477707,  0.08917197, -0.01273885, -0.26751592,  0.03821656,\n",
       "         0.2611465 ,  0.21656051],\n",
       "       [ 0.23566879, -0.26751592,  0.03821656, -0.19745223, -0.11464968,\n",
       "         0.21656051,  0.35031847]])"
      ]
     },
     "execution_count": 68,
     "metadata": {},
     "output_type": "execute_result"
    }
   ],
   "source": [
    "np.matmul(A_inv, A)"
   ]
  },
  {
   "cell_type": "code",
   "execution_count": 70,
   "metadata": {},
   "outputs": [
    {
     "data": {
      "text/plain": [
       "array([ 9.42675159,  9.29936306, 21.52866242, 12.10191083, 15.41401274,\n",
       "       -1.33757962, -5.98726115])"
      ]
     },
     "execution_count": 70,
     "metadata": {},
     "output_type": "execute_result"
    }
   ],
   "source": [
    "np.matmul(A_inv, b)"
   ]
  },
  {
   "cell_type": "code",
   "execution_count": 18,
   "metadata": {},
   "outputs": [
    {
     "data": {
      "text/plain": [
       "array([[-0.28224801, -0.77234698, -0.1414097 ,  0.14083831, -0.45687834,\n",
       "        -0.21154316,  0.17463033],\n",
       "       [-0.29369846,  0.26952278, -0.75119417, -0.4574957 , -0.24083569,\n",
       "         0.08189862, -0.05286277],\n",
       "       [-0.47852036,  0.21026986, -0.04120534,  0.43731501,  0.08453226,\n",
       "        -0.45791768, -0.56305262],\n",
       "       [ 0.3129932 ,  0.14784123, -0.48852295,  0.73846351, -0.07441081,\n",
       "         0.20419867,  0.22127164],\n",
       "       [-0.22842345, -0.32769259, -0.30068946, -0.01482756,  0.84462994,\n",
       "         0.02435113,  0.18924476],\n",
       "       [-0.49810782, -0.04044152,  0.19994336,  0.16485995, -0.06663884,\n",
       "         0.81048966, -0.14752189],\n",
       "       [-0.45479899,  0.39465076,  0.21205322,  0.08301097, -0.05231842,\n",
       "        -0.19917314,  0.73698311]])"
      ]
     },
     "execution_count": 18,
     "metadata": {},
     "output_type": "execute_result"
    }
   ],
   "source": [
    "V"
   ]
  },
  {
   "cell_type": "code",
   "execution_count": 19,
   "metadata": {},
   "outputs": [
    {
     "data": {
      "text/plain": [
       "3"
      ]
     },
     "execution_count": 19,
     "metadata": {},
     "output_type": "execute_result"
    }
   ],
   "source": [
    "len(s)"
   ]
  },
  {
   "cell_type": "code",
   "execution_count": 46,
   "metadata": {},
   "outputs": [
    {
     "data": {
      "text/plain": [
       "3"
      ]
     },
     "execution_count": 46,
     "metadata": {},
     "output_type": "execute_result"
    }
   ],
   "source": [
    "np.linalg.matrix_rank(np.c_[A, b])"
   ]
  },
  {
   "cell_type": "code",
   "execution_count": 47,
   "metadata": {},
   "outputs": [
    {
     "data": {
      "text/plain": [
       "3"
      ]
     },
     "execution_count": 47,
     "metadata": {},
     "output_type": "execute_result"
    }
   ],
   "source": [
    "np.linalg.matrix_rank(A)"
   ]
  },
  {
   "cell_type": "code",
   "execution_count": 150,
   "metadata": {},
   "outputs": [],
   "source": [
    "A=np.array([[1,2,0,-1,1,1,0],[1,0,2,1,1,0,0], [0,2,0,0,1,0,-1], [0,2,0,0,1,0,-1]])\n",
    "b = np.array([30,80,40,40])"
   ]
  },
  {
   "cell_type": "code",
   "execution_count": 78,
   "metadata": {},
   "outputs": [],
   "source": [
    "A_left = np.matmul(A.T,np.linalg.inv(np.matmul(A,A.T)))"
   ]
  },
  {
   "cell_type": "code",
   "execution_count": 80,
   "metadata": {},
   "outputs": [
    {
     "data": {
      "text/plain": [
       "array([ 9.42675159,  9.29936306, 21.52866242, 12.10191083, 15.41401274,\n",
       "       -1.33757962, -5.98726115])"
      ]
     },
     "execution_count": 80,
     "metadata": {},
     "output_type": "execute_result"
    }
   ],
   "source": [
    "np.matmul(A_left,b)"
   ]
  },
  {
   "cell_type": "code",
   "execution_count": 127,
   "metadata": {},
   "outputs": [
    {
     "data": {
      "text/plain": [
       "array([ 0,  2,  0,  0,  1,  0, -1])"
      ]
     },
     "execution_count": 127,
     "metadata": {},
     "output_type": "execute_result"
    }
   ],
   "source": [
    "A[2]"
   ]
  },
  {
   "cell_type": "code",
   "execution_count": 183,
   "metadata": {},
   "outputs": [],
   "source": [
    "init_basis = range(A.shape[1],A.shape[1]+A.shape[0])"
   ]
  },
  {
   "cell_type": "code",
   "execution_count": 184,
   "metadata": {},
   "outputs": [],
   "source": [
    "init_basis = np.array(init_basis)"
   ]
  },
  {
   "cell_type": "code",
   "execution_count": 185,
   "metadata": {},
   "outputs": [
    {
     "data": {
      "text/plain": [
       "True"
      ]
     },
     "execution_count": 185,
     "metadata": {},
     "output_type": "execute_result"
    }
   ],
   "source": [
    "np.any(init_basis>=A.shape[1])"
   ]
  },
  {
   "cell_type": "code",
   "execution_count": 186,
   "metadata": {},
   "outputs": [],
   "source": [
    "kakao = (init_basis>=A.shape[1])"
   ]
  },
  {
   "cell_type": "code",
   "execution_count": 187,
   "metadata": {},
   "outputs": [
    {
     "name": "stdout",
     "output_type": "stream",
     "text": [
      "0\n",
      "1\n",
      "2\n",
      "3\n"
     ]
    }
   ],
   "source": [
    "for i in np.where(kakao)[0]:\n",
    "    print(i)"
   ]
  },
  {
   "cell_type": "code",
   "execution_count": 188,
   "metadata": {},
   "outputs": [],
   "source": [
    "from copy import *"
   ]
  },
  {
   "cell_type": "code",
   "execution_count": 189,
   "metadata": {},
   "outputs": [
    {
     "name": "stdout",
     "output_type": "stream",
     "text": [
      "0 1\n",
      "1 0\n",
      "2 1\n"
     ]
    }
   ],
   "source": [
    "A_hat = A\n",
    "b_hat = b\n",
    "in_the_basis = range(A.shape[1],A.shape[1]+A.shape[0])\n",
    "in_the_basis = np.array(in_the_basis)\n",
    "kakao = (in_the_basis>=A.shape[1])\n",
    "for i in np.where(kakao)[0]:\n",
    "    if (np.all(A_hat[i]==0)) &(b_hat[i]==0):\n",
    "        A_hat = np.delete(A_hat, i,0)\n",
    "        b_hat = np.delete(b_hat,i)\n",
    "        in_the_basis = np.delete(in_the_basis,i)\n",
    "    else:\n",
    "        print(i, ind)\n",
    "        ind = (A_hat[i]!=0).argmax(axis=0)\n",
    "        A_hat, b_hat = pivot(A_hat,b_hat,i,ind)\n",
    "        in_the_basis[i]=ind"
   ]
  },
  {
   "cell_type": "code",
   "execution_count": 201,
   "metadata": {},
   "outputs": [],
   "source": [
    "init_basis=np.array([5,4,2])"
   ]
  },
  {
   "cell_type": "code",
   "execution_count": 205,
   "metadata": {},
   "outputs": [
    {
     "data": {
      "text/plain": [
       "4"
      ]
     },
     "execution_count": 205,
     "metadata": {},
     "output_type": "execute_result"
    }
   ],
   "source": [
    "[j for j in init_basis if A[i][j]!=0][0]"
   ]
  },
  {
   "cell_type": "code",
   "execution_count": 204,
   "metadata": {},
   "outputs": [
    {
     "data": {
      "text/plain": [
       "array([ 0,  2,  0,  0,  1,  0, -1])"
      ]
     },
     "execution_count": 204,
     "metadata": {},
     "output_type": "execute_result"
    }
   ],
   "source": [
    "A[i]"
   ]
  },
  {
   "cell_type": "code",
   "execution_count": 168,
   "metadata": {},
   "outputs": [
    {
     "data": {
      "text/plain": [
       "array([[ 1. ,  0. ,  0. , -1. ,  0. ,  1. ,  1. ],\n",
       "       [ 0. ,  1. ,  0. ,  0. ,  0.5,  0. , -0.5],\n",
       "       [ 0. ,  0. ,  1. ,  1. ,  0.5, -0.5, -0.5]])"
      ]
     },
     "execution_count": 168,
     "metadata": {},
     "output_type": "execute_result"
    }
   ],
   "source": [
    "A_hat"
   ]
  },
  {
   "cell_type": "code",
   "execution_count": 173,
   "metadata": {},
   "outputs": [],
   "source": [
    "b_hat = np.delete(b_hat, i)"
   ]
  },
  {
   "cell_type": "code",
   "execution_count": 116,
   "metadata": {},
   "outputs": [
    {
     "data": {
      "text/plain": [
       "array([[ 1,  2,  0, -1,  1,  1,  0],\n",
       "       [ 1,  0,  2,  1,  1,  0,  0],\n",
       "       [ 0,  2,  0,  0,  1,  0, -1],\n",
       "       [ 0,  2,  0,  0,  1,  0, -1]])"
      ]
     },
     "execution_count": 116,
     "metadata": {},
     "output_type": "execute_result"
    }
   ],
   "source": [
    "A_hat"
   ]
  },
  {
   "cell_type": "code",
   "execution_count": 222,
   "metadata": {},
   "outputs": [],
   "source": [
    "kakao =[4,5,6]"
   ]
  },
  {
   "cell_type": "code",
   "execution_count": 223,
   "metadata": {},
   "outputs": [],
   "source": [
    "kakao.remove(4)"
   ]
  },
  {
   "cell_type": "code",
   "execution_count": 224,
   "metadata": {},
   "outputs": [
    {
     "data": {
      "text/plain": [
       "[5, 6]"
      ]
     },
     "execution_count": 224,
     "metadata": {},
     "output_type": "execute_result"
    }
   ],
   "source": [
    "kakao"
   ]
  },
  {
   "cell_type": "code",
   "execution_count": null,
   "metadata": {},
   "outputs": [],
   "source": [
    "if np.linalg.matrix_rank(np.c_[A, b])>np.linalg.matrix_rank(A):\n",
    "    return ('Ax=b is not solvable')\n",
    "else:\n",
    "    while np.any(init_basis>=A.shape[1]):\n",
    "        \n",
    "    "
   ]
  },
  {
   "cell_type": "code",
   "execution_count": 242,
   "metadata": {},
   "outputs": [
    {
     "data": {
      "text/plain": [
       "'1.1.3'"
      ]
     },
     "execution_count": 242,
     "metadata": {},
     "output_type": "execute_result"
    }
   ],
   "source": [
    "pd.__version__"
   ]
  },
  {
   "cell_type": "code",
   "execution_count": 243,
   "metadata": {},
   "outputs": [
    {
     "data": {
      "text/plain": [
       "'1.16.4'"
      ]
     },
     "execution_count": 243,
     "metadata": {},
     "output_type": "execute_result"
    }
   ],
   "source": [
    "np.__version__"
   ]
  },
  {
   "cell_type": "code",
   "execution_count": 244,
   "metadata": {},
   "outputs": [
    {
     "data": {
      "text/plain": [
       "'1.2.1'"
      ]
     },
     "execution_count": 244,
     "metadata": {},
     "output_type": "execute_result"
    }
   ],
   "source": [
    "scipy.__version__"
   ]
  },
  {
   "cell_type": "code",
   "execution_count": null,
   "metadata": {},
   "outputs": [],
   "source": []
  }
 ],
 "metadata": {
  "kernelspec": {
   "display_name": "Python 3",
   "language": "python",
   "name": "python3"
  },
  "language_info": {
   "codemirror_mode": {
    "name": "ipython",
    "version": 3
   },
   "file_extension": ".py",
   "mimetype": "text/x-python",
   "name": "python",
   "nbconvert_exporter": "python",
   "pygments_lexer": "ipython3",
   "version": "3.7.3"
  }
 },
 "nbformat": 4,
 "nbformat_minor": 2
}
