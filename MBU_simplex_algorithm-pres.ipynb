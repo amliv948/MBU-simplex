{
 "cells": [
  {
   "cell_type": "code",
   "execution_count": 6,
   "metadata": {},
   "outputs": [],
   "source": [
    "import scipy\n",
    "import pandas as pd\n",
    "import numpy as np\n"
   ]
  },
  {
   "cell_type": "code",
   "execution_count": 20,
   "metadata": {},
   "outputs": [],
   "source": [
    "#initial solution for given A \\in R^(m,n) and b \\in R^m, if the index set of an initial basis is given then it will be used.\n",
    "def initial_solution2(A,b, init_basis=None):\n",
    "    if np.linalg.matrix_rank(np.c_[A, b]) != np.linalg.matrix_rank(A):\n",
    "        return 'Ax=b is not solvable!'\n",
    "    A_hat = A\n",
    "    b_hat = b\n",
    "    in_the_basis = range(A.shape[1],A.shape[1]+A.shape[0])\n",
    "    in_the_basis = np.array(in_the_basis)\n",
    "    kakao = (in_the_basis>=A.shape[1])\n",
    "    if init_basis == None:\n",
    "        for i in np.where(kakao)[0]:\n",
    "            if (np.all(A_hat[i]==0)) &(b_hat[i]==0):\n",
    "                A_hat = np.delete(A_hat, i,0)\n",
    "                b_hat = np.delete(b_hat,i)\n",
    "                in_the_basis = np.delete(in_the_basis,i)\n",
    "            else:\n",
    "\n",
    "                ind = (A_hat[i]!=0).argmax(axis=0)\n",
    "                A_hat, b_hat = pivot(A_hat,b_hat,i,ind)\n",
    "                in_the_basis[i]=ind\n",
    "    if init_basis!=None:\n",
    "        init_basis = list(init_basis)\n",
    "        for i in np.where(kakao)[0]:\n",
    "            if (np.all(A_hat[i]==0)) &(b_hat[i]==0):\n",
    "                A_hat = np.delete(A_hat, i,0)\n",
    "                b_hat = np.delete(b_hat,i)\n",
    "                in_the_basis = np.delete(in_the_basis,i)\n",
    "            else:\n",
    "                ind = [j for j in init_basis if A_hat[i][j]!=0][0]\n",
    "                init_basis.remove(ind)\n",
    "                A_hat, b_hat = pivot(A_hat,b_hat,i,ind)\n",
    "                in_the_basis[i]=ind\n",
    "    return(in_the_basis, A_hat, b_hat)\n"
   ]
  },
  {
   "cell_type": "code",
   "execution_count": 21,
   "metadata": {},
   "outputs": [],
   "source": [
    "# pivot on given index1,index2 and table A|b\n",
    "def pivot(A, b,index1, index2):\n",
    "    P = np.identity(A.shape[0])\n",
    "    v= -A[:, index2]/A[index1, index2]\n",
    "    v[index1] = 1/A[index1, index2]\n",
    "    P[:, index1] = v\n",
    "    new_A = np.matmul(P, A)\n",
    "    new_b_hat = np.matmul(P, b)\n",
    "    return(new_A, new_b_hat)\n",
    "    \n",
    "    "
   ]
  },
  {
   "cell_type": "code",
   "execution_count": 9,
   "metadata": {},
   "outputs": [],
   "source": [
    "#creates a pandas dataframe of the solution\n",
    "def nice_table(table,b_hat=None,init_basis=None):\n",
    "    tableau = pd.DataFrame(table, columns = ['x'+str(i) for i in range(table.shape[1])])\n",
    "    tableau['b'] = b_hat\n",
    "    if np.all(init_basis) != None:\n",
    "        tableau.index = ['x'+str(i) for i in init_basis]\n",
    "    return(tableau)\n",
    "    "
   ]
  },
  {
   "cell_type": "code",
   "execution_count": 10,
   "metadata": {},
   "outputs": [],
   "source": [
    "#runs the MBU-simplex algorithm for given A \\in R^(m,n) and b \\in R^m, if the index set of an initial basis is given then it will be used.\n",
    "def MBU_simplex(A,b, init_basis = None):\n",
    "    #initial solution\n",
    "    init_basis, table, b_hat = initial_solution2(A,b, init_basis)\n",
    "    print('initial solution:', '\\n' ,nice_table(table, b_hat, init_basis))\n",
    "    end_while= np.all(np.array(b_hat)>=0)\n",
    "    no_print=False\n",
    "    countr_outer = 0\n",
    "    while end_while==False:\n",
    "        countr_outer+=1\n",
    "        #set of indices where b_hat<0\n",
    "        index_minus_orig  = np.array(init_basis)[np.where(np.array(b_hat)<0)]\n",
    "        index_minus = np.array(range(A.shape[0]))[np.where(np.array(b_hat)<0)]\n",
    "        r_original = np.min(index_minus_orig)\n",
    "        r = index_minus[np.argmin(index_minus_orig)]\n",
    "        rDone = False\n",
    "        countr_inner = 0\n",
    "        print('r=', 'x'+str(r_original))\n",
    "        while rDone==False:\n",
    "            \n",
    "            if list(np.where(table[r, :]<0)[0])==[]:\n",
    "                print('no feasible solution!')\n",
    "                no_print = True\n",
    "                rDone=True\n",
    "                end_while=True\n",
    "            else:\n",
    "                J_r_=np.where(table[r, :]<0)\n",
    "                J_r_original = np.array(range(table.shape[1]))[J_r_]\n",
    "                s = np.min(J_r_)\n",
    "                s_original = range(table.shape[1])[s]\n",
    "                theta1 = b_hat[r]/table[r,s]\n",
    "                print('s=', 'x'+str(s_original))\n",
    "                good_row = table[:,s][np.where((table[:,s]>0) & (b_hat>=0))]\n",
    "                good_b = b_hat[np.where((table[:,s]>0) & (b_hat>=0))]\n",
    "                good_index = np.where((table[:,s]>0) & (b_hat>=0))\n",
    "                if list(good_b)==[]:\n",
    "                    theta2 = np.inf\n",
    "                else:\n",
    "                    theta2 = np.min(good_b/good_row)\n",
    "                    q = good_index[0][np.argmin(good_b/good_row)]\n",
    "                    q_orig = init_basis[q]\n",
    "                print('theta2 =', theta2, ', theta1 =', theta1)\n",
    "                \n",
    "                if theta1<=theta2:\n",
    "                    print('theta2>= theta1 => pivot on (r,s)=', '(','x'+str(r_original),',','x'+str(s_original), ')')\n",
    "                    table, b_hat = pivot(np.array(table), np.array(b_hat), r,s)\n",
    "                    rDone=True\n",
    "                    init_basis[r] = s_original\n",
    "                    print('new basis: ', ['x'+str(i) for i in init_basis])\n",
    "                    countr_inner +=1\n",
    "                    print('iterations: outer:', str(countr_outer), ' inner:', str(countr_inner))\n",
    "                    print('_ _ _ _ _ _ _ _ _ _ _ _ _ _ _ _ _ _ _ _ _ _ _ ')\n",
    "                if theta2<theta1:\n",
    "                    print('theta2< theta1 => pivot on (q,s)=', '(','x'+str(q_orig),',','x'+str(s_original), ')')\n",
    "                    table, b_hat = pivot(np.array(table), np.array(b_hat), q,s)\n",
    "                    init_basis[q] = s_original\n",
    "                    print('new basis: ', ['x'+str(i) for i in init_basis])\n",
    "                    countr_inner +=1\n",
    "                    print('iterations: outer:', str(countr_outer), ' inner:', str(countr_inner))\n",
    "                    print('. . . . . . . . . . . . . . . . . . . . . . .')\n",
    "                print(nice_table(table, b_hat, init_basis))\n",
    "                end_while = np.all(np.array(b_hat)>=0)\n",
    "    if no_print == False:\n",
    "        solution = np.zeros((1,A.shape[1]))[0]\n",
    "        solution[init_basis]=b_hat\n",
    "        print('______________________________________________')\n",
    "        print('x =',solution,'\\n', 'check:', '\\n',  nice_table(A, b), '\\n','A*x = ', np.matmul(A, solution))\n",
    "        return(solution)\n",
    "    else:\n",
    "        return('no feasible solution!')\n",
    "                    \n",
    "                    \n",
    "    "
   ]
  },
  {
   "cell_type": "markdown",
   "metadata": {},
   "source": [
    "# examples"
   ]
  },
  {
   "cell_type": "markdown",
   "metadata": {},
   "source": [
    "## first example"
   ]
  },
  {
   "cell_type": "code",
   "execution_count": 11,
   "metadata": {},
   "outputs": [],
   "source": [
    "A = np.array([[1,0,0], [0,1,0], [0,0,-1]])\n",
    "b=np.array([1,2,3])"
   ]
  },
  {
   "cell_type": "code",
   "execution_count": 12,
   "metadata": {},
   "outputs": [
    {
     "name": "stdout",
     "output_type": "stream",
     "text": [
      "initial solution: \n",
      "      x0   x1   x2    b\n",
      "x0  1.0  0.0  0.0  1.0\n",
      "x1  0.0  1.0  0.0  2.0\n",
      "x2  0.0  0.0  1.0 -3.0\n",
      "r= x2\n",
      "no feasible solution!\n"
     ]
    },
    {
     "data": {
      "text/plain": [
       "'no feasible solution!'"
      ]
     },
     "execution_count": 12,
     "metadata": {},
     "output_type": "execute_result"
    }
   ],
   "source": [
    "MBU_simplex(A,b)"
   ]
  },
  {
   "cell_type": "markdown",
   "metadata": {},
   "source": [
    "## second example"
   ]
  },
  {
   "cell_type": "code",
   "execution_count": 13,
   "metadata": {},
   "outputs": [],
   "source": [
    "A=np.array([[1,2,0,-1,1,1,0],[1,0,2,1,1,0,0], [0,2,0,0,1,0,-1],[0,2,0,0,1,0,-1]])\n",
    "b = np.array([30,80,40, 40])"
   ]
  },
  {
   "cell_type": "code",
   "execution_count": 14,
   "metadata": {},
   "outputs": [
    {
     "name": "stdout",
     "output_type": "stream",
     "text": [
      "initial solution: \n",
      "      x0   x1   x2   x3   x4   x5   x6     b\n",
      "x0  1.0  0.0  0.0 -1.0  0.0  1.0  1.0 -10.0\n",
      "x1  0.0  1.0  0.0  0.0  0.5  0.0 -0.5  20.0\n",
      "x2  0.0  0.0  1.0  1.0  0.5 -0.5 -0.5  45.0\n",
      "r= x0\n",
      "s= x3\n",
      "theta2 = 45.0 , theta1 = 10.0\n",
      "theta2>= theta1 => pivot on (r,s)= ( x0 , x3 )\n",
      "new basis:  ['x3', 'x1', 'x2']\n",
      "iterations: outer: 1  inner: 1\n",
      "_ _ _ _ _ _ _ _ _ _ _ _ _ _ _ _ _ _ _ _ _ _ _ \n",
      "     x0   x1   x2   x3   x4   x5   x6     b\n",
      "x3 -1.0  0.0  0.0  1.0  0.0 -1.0 -1.0  10.0\n",
      "x1  0.0  1.0  0.0  0.0  0.5  0.0 -0.5  20.0\n",
      "x2  1.0  0.0  1.0  0.0  0.5  0.5  0.5  35.0\n",
      "______________________________________________\n",
      "x = [ 0. 20. 35. 10.  0.  0.  0.] \n",
      " check: \n",
      "    x0  x1  x2  x3  x4  x5  x6   b\n",
      "0   1   2   0  -1   1   1   0  30\n",
      "1   1   0   2   1   1   0   0  80\n",
      "2   0   2   0   0   1   0  -1  40\n",
      "3   0   2   0   0   1   0  -1  40 \n",
      " A*x =  [30. 80. 40. 40.]\n"
     ]
    },
    {
     "data": {
      "text/plain": [
       "array([ 0., 20., 35., 10.,  0.,  0.,  0.])"
      ]
     },
     "execution_count": 14,
     "metadata": {},
     "output_type": "execute_result"
    }
   ],
   "source": [
    "MBU_simplex(A,b)"
   ]
  },
  {
   "cell_type": "markdown",
   "metadata": {},
   "source": [
    "### with given initial solution"
   ]
  },
  {
   "cell_type": "code",
   "execution_count": 15,
   "metadata": {},
   "outputs": [
    {
     "name": "stdout",
     "output_type": "stream",
     "text": [
      "initial solution: \n",
      "      x0   x1   x2   x3   x4   x5   x6     b\n",
      "x5  1.0  2.0  0.0 -1.0  1.0  1.0  0.0  30.0\n",
      "x2  0.5  0.0  1.0  0.5  0.5  0.0  0.0  40.0\n",
      "x6  0.0 -2.0  0.0  0.0 -1.0  0.0  1.0 -40.0\n",
      "r= x6\n",
      "s= x1\n",
      "theta2 = 15.0 , theta1 = 20.0\n",
      "theta2< theta1 => pivot on (q,s)= ( x5 , x1 )\n",
      "new basis:  ['x1', 'x2', 'x6']\n",
      "iterations: outer: 1  inner: 1\n",
      ". . . . . . . . . . . . . . . . . . . . . . .\n",
      "     x0   x1   x2   x3   x4   x5   x6     b\n",
      "x1  0.5  1.0  0.0 -0.5  0.5  0.5  0.0  15.0\n",
      "x2  0.5  0.0  1.0  0.5  0.5  0.0  0.0  40.0\n",
      "x6  1.0  0.0  0.0 -1.0  0.0  1.0  1.0 -10.0\n",
      "s= x3\n",
      "theta2 = 80.0 , theta1 = 10.0\n",
      "theta2>= theta1 => pivot on (r,s)= ( x6 , x3 )\n",
      "new basis:  ['x1', 'x2', 'x3']\n",
      "iterations: outer: 1  inner: 2\n",
      "_ _ _ _ _ _ _ _ _ _ _ _ _ _ _ _ _ _ _ _ _ _ _ \n",
      "     x0   x1   x2   x3   x4   x5   x6     b\n",
      "x1  0.0  1.0  0.0  0.0  0.5  0.0 -0.5  20.0\n",
      "x2  1.0  0.0  1.0  0.0  0.5  0.5  0.5  35.0\n",
      "x3 -1.0  0.0  0.0  1.0  0.0 -1.0 -1.0  10.0\n",
      "______________________________________________\n",
      "x = [ 0. 20. 35. 10.  0.  0.  0.] \n",
      " check: \n",
      "    x0  x1  x2  x3  x4  x5  x6   b\n",
      "0   1   2   0  -1   1   1   0  30\n",
      "1   1   0   2   1   1   0   0  80\n",
      "2   0   2   0   0   1   0  -1  40\n",
      "3   0   2   0   0   1   0  -1  40 \n",
      " A*x =  [30. 80. 40. 40.]\n"
     ]
    },
    {
     "data": {
      "text/plain": [
       "array([ 0., 20., 35., 10.,  0.,  0.,  0.])"
      ]
     },
     "execution_count": 15,
     "metadata": {},
     "output_type": "execute_result"
    }
   ],
   "source": [
    "MBU_simplex(A,b, [5,2,6])"
   ]
  },
  {
   "cell_type": "markdown",
   "metadata": {},
   "source": [
    "## third example"
   ]
  },
  {
   "cell_type": "code",
   "execution_count": 16,
   "metadata": {},
   "outputs": [],
   "source": [
    "A=np.array([[-1,0,-1,1,1,0,0], [-1, -1, -2, -3, 0, 1, 0], [1, 0, 0, -2, 0, 0, 1]])\n",
    "b=np.array([-2,-2, -3])"
   ]
  },
  {
   "cell_type": "code",
   "execution_count": 17,
   "metadata": {},
   "outputs": [
    {
     "name": "stdout",
     "output_type": "stream",
     "text": [
      "initial solution: \n",
      "      x0   x1   x2   x3   x4   x5   x6    b\n",
      "x0  1.0  0.0  0.0 -2.0  0.0  0.0  1.0 -3.0\n",
      "x1  0.0  1.0  0.0  3.0  2.0 -1.0  1.0 -5.0\n",
      "x2  0.0  0.0  1.0  1.0 -1.0  0.0 -1.0  5.0\n",
      "r= x0\n",
      "s= x3\n",
      "theta2 = 5.0 , theta1 = 1.5\n",
      "theta2>= theta1 => pivot on (r,s)= ( x0 , x3 )\n",
      "new basis:  ['x3', 'x1', 'x2']\n",
      "iterations: outer: 1  inner: 1\n",
      "_ _ _ _ _ _ _ _ _ _ _ _ _ _ _ _ _ _ _ _ _ _ _ \n",
      "     x0   x1   x2   x3   x4   x5   x6    b\n",
      "x3 -0.5  0.0  0.0  1.0  0.0  0.0 -0.5  1.5\n",
      "x1  1.5  1.0  0.0  0.0  2.0 -1.0  2.5 -9.5\n",
      "x2  0.5  0.0  1.0  0.0 -1.0  0.0 -0.5  3.5\n",
      "r= x1\n",
      "s= x5\n",
      "theta2 = inf , theta1 = 9.5\n",
      "theta2>= theta1 => pivot on (r,s)= ( x1 , x5 )\n",
      "new basis:  ['x3', 'x5', 'x2']\n",
      "iterations: outer: 2  inner: 1\n",
      "_ _ _ _ _ _ _ _ _ _ _ _ _ _ _ _ _ _ _ _ _ _ _ \n",
      "     x0   x1   x2   x3   x4   x5   x6    b\n",
      "x3 -0.5  0.0  0.0  1.0  0.0  0.0 -0.5  1.5\n",
      "x5 -1.5 -1.0  0.0  0.0 -2.0  1.0 -2.5  9.5\n",
      "x2  0.5  0.0  1.0  0.0 -1.0  0.0 -0.5  3.5\n",
      "______________________________________________\n",
      "x = [0.  0.  3.5 1.5 0.  9.5 0. ] \n",
      " check: \n",
      "    x0  x1  x2  x3  x4  x5  x6  b\n",
      "0  -1   0  -1   1   1   0   0 -2\n",
      "1  -1  -1  -2  -3   0   1   0 -2\n",
      "2   1   0   0  -2   0   0   1 -3 \n",
      " A*x =  [-2. -2. -3.]\n"
     ]
    },
    {
     "data": {
      "text/plain": [
       "array([0. , 0. , 3.5, 1.5, 0. , 9.5, 0. ])"
      ]
     },
     "execution_count": 17,
     "metadata": {},
     "output_type": "execute_result"
    }
   ],
   "source": [
    "MBU_simplex(A,b)"
   ]
  },
  {
   "cell_type": "code",
   "execution_count": 18,
   "metadata": {},
   "outputs": [],
   "source": [
    "A=np.array([[1,-2,1,0,0], [0,0,0,1,0], [-4,0,0,0,1]])\n",
    "b=np.array([0,1,-2])"
   ]
  },
  {
   "cell_type": "code",
   "execution_count": 19,
   "metadata": {},
   "outputs": [
    {
     "name": "stdout",
     "output_type": "stream",
     "text": [
      "initial solution: \n",
      "      x0   x1   x2   x3   x4    b\n",
      "x2  1.0 -2.0  1.0  0.0  0.0  0.0\n",
      "x3  0.0  0.0  0.0  1.0  0.0  1.0\n",
      "x4 -4.0  0.0  0.0  0.0  1.0 -2.0\n",
      "r= x4\n",
      "s= x0\n",
      "theta2 = 0.0 , theta1 = 0.5\n",
      "theta2< theta1 => pivot on (q,s)= ( x2 , x0 )\n",
      "new basis:  ['x0', 'x3', 'x4']\n",
      "iterations: outer: 1  inner: 1\n",
      ". . . . . . . . . . . . . . . . . . . . . . .\n",
      "     x0   x1   x2   x3   x4    b\n",
      "x0  1.0 -2.0  1.0  0.0  0.0  0.0\n",
      "x3  0.0  0.0  0.0  1.0  0.0  1.0\n",
      "x4  0.0 -8.0  4.0  0.0  1.0 -2.0\n",
      "s= x1\n",
      "theta2 = inf , theta1 = 0.25\n",
      "theta2>= theta1 => pivot on (r,s)= ( x4 , x1 )\n",
      "new basis:  ['x0', 'x3', 'x1']\n",
      "iterations: outer: 1  inner: 2\n",
      "_ _ _ _ _ _ _ _ _ _ _ _ _ _ _ _ _ _ _ _ _ _ _ \n",
      "     x0   x1   x2   x3     x4     b\n",
      "x0  1.0  0.0  0.0  0.0 -0.250  0.50\n",
      "x3  0.0  0.0  0.0  1.0  0.000  1.00\n",
      "x1  0.0  1.0 -0.5  0.0 -0.125  0.25\n",
      "______________________________________________\n",
      "x = [0.5  0.25 0.   1.   0.  ] \n",
      " check: \n",
      "    x0  x1  x2  x3  x4  b\n",
      "0   1  -2   1   0   0  0\n",
      "1   0   0   0   1   0  1\n",
      "2  -4   0   0   0   1 -2 \n",
      " A*x =  [ 0.  1. -2.]\n"
     ]
    },
    {
     "data": {
      "text/plain": [
       "array([0.5 , 0.25, 0.  , 1.  , 0.  ])"
      ]
     },
     "execution_count": 19,
     "metadata": {},
     "output_type": "execute_result"
    }
   ],
   "source": [
    "MBU_simplex(A,b, [2,3,4])"
   ]
  },
  {
   "cell_type": "markdown",
   "metadata": {},
   "source": [
    "______________________________________________________"
   ]
  }
 ],
 "metadata": {
  "kernelspec": {
   "display_name": "Python 3",
   "language": "python",
   "name": "python3"
  },
  "language_info": {
   "codemirror_mode": {
    "name": "ipython",
    "version": 3
   },
   "file_extension": ".py",
   "mimetype": "text/x-python",
   "name": "python",
   "nbconvert_exporter": "python",
   "pygments_lexer": "ipython3",
   "version": "3.7.3"
  }
 },
 "nbformat": 4,
 "nbformat_minor": 2
}
